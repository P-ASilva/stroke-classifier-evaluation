{
 "cells": [
  {
   "attachments": {},
   "cell_type": "markdown",
   "metadata": {},
   "source": [
    "# Intro"
   ]
  },
  {
   "cell_type": "code",
   "execution_count": null,
   "metadata": {},
   "outputs": [],
   "source": [
    "# imports required to run the code.\n",
    "from sklearn.model_selection import train_test_split\n",
    "from sklearn.tree import DecisionTreeClassifier\n",
    "\n",
    "import pandas as pd\n",
    "from sklearn.tree import plot_tree\n",
    "import matplotlib.pyplot as plt\n",
    "import sklearn\n",
    "import autograd.numpy as np_\n",
    "import numpy as np\n",
    "from autograd import grad"
   ]
  },
  {
   "cell_type": "code",
   "execution_count": null,
   "metadata": {},
   "outputs": [],
   "source": [
    "# preparing dataset.\n",
    "\n",
    "dfo = pd.read_csv('healthcare-dataset-stroke-data.csv')\n",
    "dfo = dfo.fillna(0)\n",
    "\n",
    "# ---------------------------------------- #\n",
    "\n",
    "dfo.head()"
   ]
  },
  {
   "cell_type": "code",
   "execution_count": null,
   "metadata": {},
   "outputs": [],
   "source": [
    "# preparing dataset.\n",
    "\n",
    "dfo = pd.read_csv('healthcare-dataset-stroke-data.csv')\n",
    "dfo = dfo.fillna(0)\n",
    "\n",
    "dfo = dfo.sort_values(by=['bmi'], ascending=True)\n",
    "dfo = dfo.reset_index(drop = True)\n",
    "\n",
    "# ---------------------------------------- #\n",
    "\n",
    "df = pd.get_dummies(dfo) # converte dados não numéricos.\n",
    "df = df.drop(columns=['gender_Other', 'gender_Male']) # remoção de dados redundantes.\n",
    "df.rename(columns={\"gender_Female\": \"gender\"}, inplace = True)\n",
    "\n",
    "# ---------------------------------------- #\n",
    "df.head()"
   ]
  },
  {
   "cell_type": "code",
   "execution_count": null,
   "metadata": {},
   "outputs": [],
   "source": [
    "df['stroke'].value_counts()"
   ]
  },
  {
   "attachments": {},
   "cell_type": "markdown",
   "metadata": {},
   "source": [
    "# Amostragem\n",
    "\n",
    "O primeiro passo para garantir uma análise mais próxima da realidade é a remoção de parcialidades, no nosso caso, identificamos que nossos dados eram majoritariamente de pessoas que não sofreram de AVC's, portanto havia um viés tendendo a essa direção o que poderia reduzir a credibilidade de nosso algoritmo.\n",
    "\n",
    "Para contornar tal problema, decidimos limitar nosso tamanho de amostra para que houvesse uma relação mais próxima de 1 para 1 entre casos em que um individuo sofreu ou não um AVC. "
   ]
  },
  {
   "cell_type": "code",
   "execution_count": null,
   "metadata": {},
   "outputs": [],
   "source": [
    "# normalizing dataframe.\n",
    "\n",
    "filtery = (df['stroke'] == 0)\n",
    "dfo1 = df[filtery]\n",
    "\n",
    "dfo1 = dfo1.iloc[:300]\n",
    "\n",
    "filtery = (df['stroke'] == 1)\n",
    "dfo2 = df[filtery]\n",
    "\n",
    "dfo = dfo1.append(dfo2)\n",
    "\n",
    "# ----------------- #\n",
    "\n",
    "# excluding more redundant data.\n",
    "dfa = dfo.drop(columns=['stroke','id','ever_married_No','Residence_type_Rural','smoking_status_formerly smoked']).astype(float)"
   ]
  },
  {
   "attachments": {},
   "cell_type": "markdown",
   "metadata": {},
   "source": [
    "## Separando dados em teste e treino"
   ]
  },
  {
   "cell_type": "code",
   "execution_count": null,
   "metadata": {},
   "outputs": [],
   "source": [
    "X_train, X_test, y_train, y_test = train_test_split(dfa, dfo['stroke'], train_size=0.5)\n",
    "y_train = y_train.replace(to_replace=0,value=-1)\n",
    "y_test = y_test.replace(to_replace=0,value=-1)\n",
    "y_train.value_counts()"
   ]
  },
  {
   "cell_type": "code",
   "execution_count": null,
   "metadata": {},
   "outputs": [],
   "source": [
    "# To Numpy\n",
    "X_train,X_test,y_train,y_test = X_train.to_numpy(),X_test.to_numpy(),y_train.to_numpy(),y_test.to_numpy()"
   ]
  },
  {
   "attachments": {},
   "cell_type": "markdown",
   "metadata": {},
   "source": [
    "# Métodos e funções\n",
    "\n",
    "- acurracy\n",
    "\n",
    "- eqm"
   ]
  },
  {
   "cell_type": "code",
   "execution_count": null,
   "metadata": {},
   "outputs": [],
   "source": [
    "# ---------------------------------------- #\n",
    "\n",
    "def predict( w, b, pontos ): # Uses data obtained to extrapolate real value.\n",
    "    est = w.T @ pontos + b\n",
    "    return est\n",
    "\n",
    "\n",
    "def accuracy(y_test, y_est): # Compares extrapolated data with real data.\n",
    "    return np.mean(np.sign(y_test) == np.sign(y_est))\n",
    "\n",
    "def eqm( parametros ): # \n",
    "    w, b, pontos, val = parametros\n",
    "    est = w.T @ pontos + b\n",
    "    mse = np_.mean( (est - val)**2)\n",
    "    return mse\n",
    "\n",
    "# ---------------------------------------- #"
   ]
  },
  {
   "attachments": {},
   "cell_type": "markdown",
   "metadata": {},
   "source": [
    "# Teste de acurácia"
   ]
  },
  {
   "cell_type": "code",
   "execution_count": null,
   "metadata": {},
   "outputs": [],
   "source": [
    "# Generating data for accuracy test.\n",
    "# Current values are going to take a while.\n",
    "\n",
    "results = []\n",
    "for _ in range(10):\n",
    "    g = grad(eqm)\n",
    "\n",
    "    pontos = X_train.T\n",
    "    alvos = (y_train).astype(float)\n",
    "\n",
    "    w = np.random.randn( pontos.shape[0],1)\n",
    "    b = 0.0\n",
    "    alpha = 0.000001\n",
    "\n",
    "    for n in range(10000):\n",
    "        grad_ = g( (w, b, pontos, alvos) )\n",
    "        w -= alpha*grad_[0]\n",
    "        b -= alpha*grad_[1]\n",
    "\n",
    "    y_pred = (predict( w, b, X_test.T )).reshape((y_test.shape))\n",
    "\n",
    "    results.append(accuracy(y_test, y_pred))"
   ]
  },
  {
   "cell_type": "code",
   "execution_count": null,
   "metadata": {},
   "outputs": [],
   "source": [
    "# prints accuracy data.\n",
    "\n",
    "print(np.array(results).mean())\n",
    "print(np.array(results).std())"
   ]
  },
  {
   "attachments": {},
   "cell_type": "markdown",
   "metadata": {},
   "source": [
    "Com base nos parametros normalisados, podemos afirmar que nosso classificador tem um funcionamento teórico bom - acertando em media 60% das vezes."
   ]
  },
  {
   "cell_type": "code",
   "execution_count": null,
   "metadata": {},
   "outputs": [],
   "source": [
    "# Generating prediction values.\n",
    "\n",
    "g = grad(eqm)\n",
    "\n",
    "pontos = X_train.T\n",
    "alvos = (y_train).astype(float)\n",
    "\n",
    "w = np.random.randn( pontos.shape[0],1)\n",
    "b = 0.0\n",
    "alpha = 0.000001\n",
    "print(w)\n",
    "for n in range(1000):\n",
    "    grad_ = g( (w, b, pontos, alvos) )\n",
    "    w -= alpha*grad_[0]\n",
    "    b -= alpha*grad_[1]\n",
    "\n",
    "y_pred = (predict( w, b, X_test.T )).reshape((y_test.shape))"
   ]
  },
  {
   "attachments": {},
   "cell_type": "markdown",
   "metadata": {},
   "source": [
    "# Visualizando os fatores de relevância"
   ]
  },
  {
   "cell_type": "code",
   "execution_count": null,
   "metadata": {},
   "outputs": [],
   "source": [
    "from collections import OrderedDict\n",
    "\n",
    "columns = list(dfa.columns)\n",
    "res = {columns[i]: float(w[i]) for i in range(len(w))}\n",
    "sorted(res.items(), key=lambda t: t[1], reverse=True)"
   ]
  },
  {
   "cell_type": "code",
   "execution_count": null,
   "metadata": {},
   "outputs": [],
   "source": [
    "from sklearn.tree import DecisionTreeClassifier\n",
    "\n",
    "print(dfa)\n",
    "df_features = pd.DataFrame(X_test)\n",
    "print(df_features)\n",
    "df_rotulo = pd.DataFrame(y_test)\n",
    "tree = DecisionTreeClassifier(criterion='entropy')\n",
    "\n",
    "# Agora, vamos usar o método .fit() para ajustar os parâmetros da árvore:\n",
    "tree.fit(df_features, df_rotulo)\n",
    "\n",
    "# Podemos visualizar a árvore de decisão em uma figura!\n",
    "from sklearn.tree import plot_tree\n",
    "import matplotlib.pyplot as plt\n",
    "\n",
    "plt.figure( figsize=(20,20) )\n",
    "a = plot_tree(tree, feature_names=df_features.columns, fontsize=15, \n",
    "              node_ids=False, impurity=False, filled=True)\n",
    "\n",
    "#a"
   ]
  }
 ],
 "metadata": {
  "kernelspec": {
   "display_name": "Python 3",
   "language": "python",
   "name": "python3"
  },
  "language_info": {
   "codemirror_mode": {
    "name": "ipython",
    "version": 3
   },
   "file_extension": ".py",
   "mimetype": "text/x-python",
   "name": "python",
   "nbconvert_exporter": "python",
   "pygments_lexer": "ipython3",
   "version": "3.10.3"
  },
  "orig_nbformat": 4
 },
 "nbformat": 4,
 "nbformat_minor": 2
}
