{
 "cells": [
  {
   "cell_type": "code",
   "execution_count": null,
   "metadata": {},
   "outputs": [],
   "source": [
    "# imports required to run the code.\n",
    "from sklearn.model_selection import train_test_split\n",
    "from sklearn.tree import DecisionTreeClassifier\n",
    "\n",
    "import pandas as pd\n",
    "from sklearn.tree import plot_tree\n",
    "import matplotlib.pyplot as plt\n",
    "import sklearn\n",
    "import autograd.numpy as np_\n",
    "import numpy as np\n",
    "from autograd import grad"
   ]
  },
  {
   "cell_type": "code",
   "execution_count": null,
   "metadata": {},
   "outputs": [],
   "source": [
    "# preparing dataset.\n",
    "\n",
    "dfo = pd.read_csv('healthcare-dataset-stroke-data.csv')\n",
    "dfo = dfo.fillna(0)\n",
    "\n",
    "# ---------------------------------------- #\n",
    "\n",
    "dfo.head()"
   ]
  },
  {
   "cell_type": "code",
   "execution_count": null,
   "metadata": {},
   "outputs": [],
   "source": [
    "# preparing dataset.\n",
    "\n",
    "dfo = pd.read_csv('healthcare-dataset-stroke-data.csv')\n",
    "dfo = dfo.fillna(0)\n",
    "\n",
    "dfo = dfo.sort_values(by=['bmi'], ascending=True)\n",
    "dfo = dfo.reset_index(drop = True)\n",
    "\n",
    "# ---------------------------------------- #\n",
    "\n",
    "df = pd.get_dummies(dfo) # converte dados não numéricos.\n",
    "df = df.drop(columns=['gender_Other', 'gender_Male']) # remoção de dados redundantes.\n",
    "df.rename(columns={\"gender_Female\": \"gender\"}, inplace = True)\n",
    "\n",
    "# ---------------------------------------- #\n",
    "df.head()"
   ]
  },
  {
   "cell_type": "code",
   "execution_count": null,
   "metadata": {},
   "outputs": [],
   "source": [
    "# ----------------- #\n",
    "\n",
    "filtery = (df['stroke'] == 0)\n",
    "dfo1 = df[filtery]\n",
    "\n",
    "dfo1 = dfo1.iloc[:300]\n",
    "\n",
    "# ----------------- #\n",
    "\n",
    "filtery = (df['stroke'] == 1)\n",
    "dfo2 = df[filtery]\n",
    "\n",
    "dfo = dfo1.append(dfo2)\n",
    "\n",
    "dfo"
   ]
  },
  {
   "cell_type": "code",
   "execution_count": null,
   "metadata": {},
   "outputs": [],
   "source": [
    "dfa = dfo.drop(columns=['stroke','id','ever_married_No','Residence_type_Rural','smoking_status_formerly smoked']).astype(float)\n",
    "\n",
    "X_train, X_test, y_train, y_test = train_test_split(dfa, dfo['stroke'], train_size=0.5)\n",
    "y_train = y_train.replace(to_replace=0,value=-1)\n",
    "y_test = y_test.replace(to_replace=0,value=-1)\n",
    "y_train.value_counts()"
   ]
  },
  {
   "cell_type": "code",
   "execution_count": null,
   "metadata": {},
   "outputs": [],
   "source": [
    "X_train,X_test,y_train,y_test = X_train.to_numpy(),X_test.to_numpy(),y_train.to_numpy(),y_test.to_numpy()"
   ]
  },
  {
   "cell_type": "code",
   "execution_count": null,
   "metadata": {},
   "outputs": [],
   "source": [
    "import autograd.numpy as np_\n",
    "import numpy as np\n",
    "from autograd import grad\n",
    "\n",
    "# ---------------------------------------- #\n",
    "\n",
    "def predict( w, b, pontos ):\n",
    "    est = w.T @ pontos + b\n",
    "    return est\n",
    "\n",
    "\n",
    "def accuracy(y_test, y_est):\n",
    "    return np.mean(np.sign(y_test)==np.sign(y_est))\n",
    "\n",
    "def loss( parametros ):\n",
    "    w, b, pontos, val = parametros\n",
    "    est = w.T @ pontos + b\n",
    "    mse = np_.mean( (est - val)**2)\n",
    "    return mse\n",
    "\n",
    "# ---------------------------------------- #"
   ]
  },
  {
   "cell_type": "code",
   "execution_count": null,
   "metadata": {},
   "outputs": [],
   "source": [
    "results = []\n",
    "for _ in range(10):\n",
    "    g = grad(loss)\n",
    "\n",
    "    pontos = X_train.T\n",
    "    alvos = (y_train).astype(float)\n",
    "\n",
    "    w = np.random.randn( pontos.shape[0],1)\n",
    "    b = 0.0\n",
    "    alpha = 0.000001\n",
    "\n",
    "    for n in range(1000):\n",
    "        grad_ = g( (w, b, pontos, alvos) )\n",
    "        w -= alpha*grad_[0]\n",
    "        b -= alpha*grad_[1]\n",
    "\n",
    "    y_pred = (predict( w, b, X_test.T )).reshape((y_test.shape))\n",
    "\n",
    "    results.append(accuracy(y_test, y_pred))"
   ]
  },
  {
   "cell_type": "code",
   "execution_count": null,
   "metadata": {},
   "outputs": [],
   "source": [
    "print(np.array(results).mean())\n",
    "print(np.array(results).std())"
   ]
  },
  {
   "cell_type": "code",
   "execution_count": null,
   "metadata": {},
   "outputs": [],
   "source": [
    "g = grad(loss)\n",
    "\n",
    "pontos = X_train.T\n",
    "alvos = (y_train).astype(float)\n",
    "\n",
    "w = np.random.randn( pontos.shape[0],1)\n",
    "b = 0.0\n",
    "alpha = 0.000001\n",
    "print(w)\n",
    "for n in range(1000):\n",
    "    grad_ = g( (w, b, pontos, alvos) )\n",
    "    w -= alpha*grad_[0]\n",
    "    b -= alpha*grad_[1]\n",
    "\n",
    "y_pred = (predict( w, b, X_test.T )).reshape((y_test.shape))"
   ]
  },
  {
   "cell_type": "code",
   "execution_count": null,
   "metadata": {},
   "outputs": [],
   "source": [
    "from collections import OrderedDict\n",
    "\n",
    "columns = list(dfa.columns)\n",
    "res = {columns[i]: float(w[i]) for i in range(len(w))}\n",
    "res_sorted = sorted(res.items(), key=lambda t: t[1], reverse=True)"
   ]
  },
  {
   "attachments": {},
   "cell_type": "markdown",
   "metadata": {},
   "source": [
    "[('smoking_status_never smoked', 1.9662127728927499),\n",
    " ('work_type_Govt_job', 1.5288039518764849),\n",
    " ('heart_disease', 1.3447350243293723),\n",
    " ('work_type_Private', 0.7072463824185442),\n",
    " ('ever_married_Yes', 0.4894299210636069),\n",
    " ('hypertension', 0.26751445224545006),\n",
    " ('work_type_children', 0.11226938267801652),\n",
    " ('bmi', 0.028330032893819176),\n",
    " ('gender', 0.0008012721255334959),\n",
    " ('avg_glucose_level', -0.0048443433053298015),\n",
    " ('age', -0.007321216850998305),\n",
    " ('smoking_status_smokes', -0.6108328187336413),\n",
    " ('Residence_type_Urban', -0.6731651799177507),\n",
    " ('smoking_status_Unknown', -0.7852556759763394),\n",
    " ('work_type_Never_worked', -1.1298236983714267),\n",
    " ('work_type_Self-employed', -1.7866693388941148)]"
   ]
  },
  {
   "cell_type": "code",
   "execution_count": null,
   "metadata": {},
   "outputs": [],
   "source": [
    "from sklearn.tree import DecisionTreeClassifier\n",
    "\n",
    "print(dfa)\n",
    "df_features = pd.DataFrame(X_test)\n",
    "print(df_features)\n",
    "df_rotulo = pd.DataFrame(y_test)\n",
    "tree = DecisionTreeClassifier(criterion='entropy')\n",
    "\n",
    "# Agora, vamos usar o método .fit() para ajustar os parâmetros da árvore:\n",
    "tree.fit(df_features, df_rotulo)\n",
    "\n",
    "# Podemos visualizar a árvore de decisão em uma figura!\n",
    "from sklearn.tree import plot_tree\n",
    "import matplotlib.pyplot as plt\n",
    "\n",
    "plt.figure( figsize=(20,20) )\n",
    "a = plot_tree(tree, feature_names=df_features.columns, fontsize=15, \n",
    "              node_ids=False, impurity=False, filled=True)\n",
    "\n",
    "#a"
   ]
  }
 ],
 "metadata": {
  "kernelspec": {
   "display_name": "Python 3",
   "language": "python",
   "name": "python3"
  },
  "language_info": {
   "codemirror_mode": {
    "name": "ipython",
    "version": 3
   },
   "file_extension": ".py",
   "mimetype": "text/x-python",
   "name": "python",
   "nbconvert_exporter": "python",
   "pygments_lexer": "ipython3",
   "version": "3.10.3"
  },
  "orig_nbformat": 4
 },
 "nbformat": 4,
 "nbformat_minor": 2
}
